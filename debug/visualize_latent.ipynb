{
 "cells": [
  {
   "cell_type": "code",
   "execution_count": 1,
   "id": "bb18da14",
   "metadata": {},
   "outputs": [
    {
     "name": "stderr",
     "output_type": "stream",
     "text": [
      "2023-11-05 22:53:30.687489: I tensorflow/core/util/util.cc:169] oneDNN custom operations are on. You may see slightly different numerical results due to floating-point round-off errors from different computation orders. To turn them off, set the environment variable `TF_ENABLE_ONEDNN_OPTS=0`.\n"
     ]
    }
   ],
   "source": [
    "import scipy.io\n",
    "import scipy.stats\n",
    "import matplotlib.pyplot as plt\n",
    "import re\n",
    "import os\n",
    "from IPython.display import Image \n",
    "import cv2\n",
    "from tempfile import TemporaryFile\n",
    "from scipy import stats\n",
    "from torchvision import transforms\n",
    "import pandas as pd\n",
    "import shutil\n",
    "import datetime\n",
    "import glob\n",
    "from scipy import integrate\n",
    "import torch\n",
    "from mpl_toolkits.axes_grid1 import make_axes_locatable\n",
    "import torch.nn as nn\n",
    "from torch.autograd import Variable\n",
    "import numpy as np\n",
    "import torchvision\n",
    "import torchvision.transforms as T\n",
    "from torch.utils.data import DataLoader\n",
    "from PIL import ImageFile, Image\n",
    "import sys\n",
    "sys.path.insert(1, '../architecture')\n",
    "sys.path.insert(2, '../dataLoaders')\n",
    "from ProUNet import *\n",
    "import torchvision.models as models\n",
    "from MapillaryDataLoader import *\n",
    "from VolvoDataLoader import *\n",
    "from volvoDataLoader_onFly import *\n",
    "from tqdm import tqdm\n",
    "from torchsummary import summary\n",
    "from matplotlib.patches import Rectangle\n",
    "import torch.nn.functional as F\n",
    "import numpy as np\n",
    "from sklearn.manifold import TSNE\n",
    "\n",
    "import numpy as np\n",
    "import cv2 as cv\n",
    "#from MapRSCD import *\n",
    "%matplotlib inline"
   ]
  },
  {
   "cell_type": "code",
   "execution_count": 2,
   "id": "4c9b35aa",
   "metadata": {},
   "outputs": [],
   "source": [
    "transform_in = transforms.Compose([\n",
    "    transforms.ToTensor(),\n",
    "    transforms.Normalize([0.4191, 0.4586, 0.4700], [0.2553, 0.2675, 0.2945]),\n",
    "    transforms.Resize((256,256))\n",
    "])\n",
    "\n",
    "transform_ou = transforms.Compose([\n",
    "    transforms.ToTensor(),\n",
    "    transforms.Resize((256,256))\n",
    "])"
   ]
  },
  {
   "cell_type": "code",
   "execution_count": 3,
   "id": "6d959951",
   "metadata": {},
   "outputs": [],
   "source": [
    "args = {\n",
    "    \"mode\":\"train\",\n",
    "    \"input_img_dim\":(256,256),\n",
    "    \"mapillaryRootPath\":'../../../datasets/augmented_mapillary',\n",
    "    \"cityscapesRootPath\":'../../../datasets/augmented_cityscapes',\n",
    "    \"RSCDRootPath\":'../../../datasets/RSCD',\n",
    "    \"volvoRootPath\":\"../../../datasets/VolvoAnnotatedImages/rawDataset/images\",\n",
    "    \"reducedCategories\":True\n",
    "}\n",
    "\n",
    "dataloader = volvo_onFly(**args)"
   ]
  },
  {
   "cell_type": "code",
   "execution_count": 4,
   "id": "085f0702",
   "metadata": {},
   "outputs": [
    {
     "data": {
      "text/plain": [
       "<All keys matched successfully>"
      ]
     },
     "execution_count": 4,
     "metadata": {},
     "output_type": "execute_result"
    }
   ],
   "source": [
    "device = torch.device('cuda:1')\n",
    "model = ProUNet(gecoConfig = {\"enable\":False}, device = device, num_classes = dataloader.get_num_classes(), LatentVarSize = 6, beta = 3, training = True, num_samples = 16).to(device)\n",
    "# check = torch.load(\"../checkpoints/HVAEFri_Segfri2/best.pth\", map_location=device)\n",
    "check = torch.load(\"../checkpoints/HVAEFri_volvo_onTheFly/best.pth\", map_location=device)\n",
    "model.load_state_dict(check['model_state_dict'])"
   ]
  },
  {
   "cell_type": "code",
   "execution_count": 5,
   "id": "2e0dd7d9",
   "metadata": {},
   "outputs": [
    {
     "name": "stderr",
     "output_type": "stream",
     "text": [
      "/home/lunet/wsmo6/.conda/envs/3.8/lib/python3.8/site-packages/torchvision/transforms/functional.py:1603: UserWarning: The default value of the antialias parameter of all the resizing transforms (Resize(), RandomResizedCrop(), etc.) will change from None to True in v0.17, in order to be consistent across the PIL and Tensor backends. To suppress this warning, directly pass antialias=True (recommended, future default), antialias=None (current default, which means False for Tensors and True for PIL), or antialias=False (only works on Tensors - PIL will still use antialiasing). This also applies if you are using the inference transforms from the models weights: update the call to weights.transforms(antialias=True).\n",
      "  warnings.warn(\n"
     ]
    }
   ],
   "source": [
    "k = 350\n",
    "frame = dataloader[k][\"image\"].to(device)\n",
    "FriLabel = dataloader[k][\"FriLabel\"]\n",
    "segs, dists, samplesFri = model.inference(frame.unsqueeze(0))"
   ]
  },
  {
   "cell_type": "code",
   "execution_count": 6,
   "id": "5093ada7",
   "metadata": {},
   "outputs": [],
   "source": [
    "tsne = TSNE(n_components=2, learning_rate='auto', init='random', perplexity=3)"
   ]
  },
  {
   "cell_type": "code",
   "execution_count": 9,
   "id": "8d9ab4f8",
   "metadata": {},
   "outputs": [],
   "source": [
    "X_embedded = []\n",
    "for i in range(100):\n",
    "    flattenFeatures = torch.flatten(dists[\"dist1\"].sample(), start_dim = 2, end_dim = 3).squeeze(0).cpu()\n",
    "    tmp = tsne.fit_transform(flattenFeatures)\n",
    "    X_embedded.extend(tmp)\n",
    "X_embedded = np.array(X_embedded)"
   ]
  },
  {
   "cell_type": "code",
   "execution_count": 10,
   "id": "325e681b",
   "metadata": {},
   "outputs": [
    {
     "data": {
      "image/png": "[encoded data removed]",
      "text/plain": [
       "<Figure size 640x480 with 1 Axes>"
      ]
     },
     "metadata": {},
     "output_type": "display_data"
    }
   ],
   "source": [
    "plt.plot(X_embedded[:,0], X_embedded[:,1], \"ro\")\n",
    "plt.show()"
   ]
  },
  {
   "cell_type": "code",
   "execution_count": null,
   "id": "e2757ebe",
   "metadata": {},
   "outputs": [],
   "source": []
  },
  {
   "cell_type": "code",
   "execution_count": null,
   "id": "9afcd5e4",
   "metadata": {},
   "outputs": [],
   "source": []
  }
 ],
 "metadata": {
  "kernelspec": {
   "display_name": "3.8",
   "language": "python",
   "name": "3.8"
  },
  "language_info": {
   "codemirror_mode": {
    "name": "ipython",
    "version": 3
   },
   "file_extension": ".py",
   "mimetype": "text/x-python",
   "name": "python",
   "nbconvert_exporter": "python",
   "pygments_lexer": "ipython3",
   "version": "3.8.16"
  }
 },
 "nbformat": 4,
 "nbformat_minor": 5
}
