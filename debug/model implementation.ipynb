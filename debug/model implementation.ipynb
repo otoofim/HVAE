{
 "cells": [
  {
   "cell_type": "code",
   "execution_count": 1,
   "id": "058007d3",
   "metadata": {},
   "outputs": [],
   "source": [
    "import sys\n",
    "sys.path.insert(1, '../architecture')\n",
    "# sys.path.insert(2, '../dataLoaders')\n",
    "# from ResidualBlock import *\n",
    "# from UNetBlocks import *\n",
    "from Prior import *\n",
    "from Posterior import *"
   ]
  },
  {
   "cell_type": "code",
   "execution_count": 2,
   "id": "30776dbd",
   "metadata": {},
   "outputs": [],
   "source": [
    "def kl_loss(priors, posteriors):\n",
    "\n",
    "    klLoss = {}\n",
    "    for level, (posterior, prior) in enumerate(zip(posteriors.items(), priors.items())):\n",
    "        klLoss[level] = torch.mean(kl.kl_divergence(posterior[1], prior[1]), (1,2))\n",
    "    return klLoss"
   ]
  },
  {
   "cell_type": "code",
   "execution_count": 3,
   "id": "885c3aae",
   "metadata": {},
   "outputs": [],
   "source": [
    "input_test = torch.rand([50,3,256,256])\n",
    "seg_label_test = torch.rand([50,20,256,256])\n",
    "fri_label_test = torch.rand([50,1,256,256])"
   ]
  },
  {
   "cell_type": "code",
   "execution_count": 14,
   "id": "0445f7a8",
   "metadata": {},
   "outputs": [],
   "source": [
    "priorM = prior(num_samples = 10, num_classes = 20, LatentVarSize = 6)\n",
    "posteriorM = posterior(num_samples = 10, num_classes = 20, LatentVarSize = 6)\n",
    "\n",
    "optimizer = torch.optim.Adam([*priorM.parameters(), *posteriorM.parameters()], lr =  0.001)\n",
    "criterion = nn.BCEWithLogitsLoss(size_average = True, reduction = None, reduce = True)\n",
    "criterion = nn.CrossEntropyLoss(reduction='none', label_smoothing = 0.14)"
   ]
  },
  {
   "cell_type": "code",
   "execution_count": 11,
   "id": "19162cef",
   "metadata": {},
   "outputs": [],
   "source": [
    "posteriors = posteriorM(torch.cat([input_test,seg_label_test, fri_label_test], 1))\n",
    "seg, priors, fric = priorM(input_test, posteriors)"
   ]
  },
  {
   "cell_type": "code",
   "execution_count": 12,
   "id": "cfbe9fdd",
   "metadata": {},
   "outputs": [],
   "source": [
    "gt_fric = torch.full_like(fric, 2.)\n",
    "gt_seg = torch.full_like(seg, 2.)"
   ]
  },
  {
   "cell_type": "code",
   "execution_count": 21,
   "id": "90ac77ad",
   "metadata": {},
   "outputs": [],
   "source": [
    "loss_fric = criterion(fric, gt_fric)\n",
    "loss_seg = criterion(seg, gt_seg)\n",
    "loss_kl = torch.sum(torch.stack([i for i in kl_loss(priors, posteriors).values()]), 0)\n",
    "# total_loss = loss_fric + loss_seg + loss_kl"
   ]
  },
  {
   "cell_type": "code",
   "execution_count": 8,
   "id": "c19a7ad7",
   "metadata": {},
   "outputs": [],
   "source": [
    "total_loss.backward()\n",
    "optimizer.step()"
   ]
  },
  {
   "cell_type": "code",
   "execution_count": 19,
   "id": "2c664674",
   "metadata": {},
   "outputs": [
    {
     "data": {
      "text/plain": [
       "torch.Size([50])"
      ]
     },
     "execution_count": 19,
     "metadata": {},
     "output_type": "execute_result"
    }
   ],
   "source": [
    "torch.mean(loss_seg,(1,2))"
   ]
  },
  {
   "cell_type": "code",
   "execution_count": 22,
   "id": "f7135100",
   "metadata": {},
   "outputs": [
    {
     "data": {
      "text/plain": [
       "tensor([297.9222, 318.4168, 329.5488, 298.7978, 287.6593, 353.2296, 308.7106,\n",
       "        331.3213, 291.3873, 287.5399, 316.1758, 338.8154, 301.2698, 345.7997,\n",
       "        308.7054, 325.0792, 302.1965, 320.3433, 308.8245, 306.5759, 345.0124,\n",
       "        313.9180, 296.8038, 296.3813, 342.2180, 302.0573, 301.4528, 290.6595,\n",
       "        278.6417, 288.8604, 303.8060, 313.5017, 301.7496, 321.9257, 327.3779,\n",
       "        297.9522, 331.7773, 314.5306, 295.8223, 354.6790, 300.5458, 319.3062,\n",
       "        298.6108, 295.9146, 298.4786, 300.4749, 301.6452, 311.1354, 273.2830,\n",
       "        307.2227], grad_fn=<SumBackward1>)"
      ]
     },
     "execution_count": 22,
     "metadata": {},
     "output_type": "execute_result"
    }
   ],
   "source": [
    "loss_kl"
   ]
  },
  {
   "cell_type": "code",
   "execution_count": null,
   "id": "c5b9013d",
   "metadata": {},
   "outputs": [],
   "source": []
  },
  {
   "cell_type": "code",
   "execution_count": null,
   "id": "6826ed9d",
   "metadata": {},
   "outputs": [],
   "source": []
  },
  {
   "cell_type": "code",
   "execution_count": null,
   "id": "b31bc405",
   "metadata": {},
   "outputs": [],
   "source": []
  }
 ],
 "metadata": {
  "kernelspec": {
   "display_name": "3.8",
   "language": "python",
   "name": "3.8"
  },
  "language_info": {
   "codemirror_mode": {
    "name": "ipython",
    "version": 3
   },
   "file_extension": ".py",
   "mimetype": "text/x-python",
   "name": "python",
   "nbconvert_exporter": "python",
   "pygments_lexer": "ipython3",
   "version": "3.8.16"
  }
 },
 "nbformat": 4,
 "nbformat_minor": 5
}
